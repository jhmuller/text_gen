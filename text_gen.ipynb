{
 "cells": [
  {
   "cell_type": "markdown",
   "id": "b1e7f87f",
   "metadata": {},
   "source": [
    "# Text Generation Examples\n",
    "\n",
    "Examples of generating text from some starter seed text abound.  \n",
    "For example, you can try it yourself at Hugging Face\n",
    "     https://huggingface.co/gpt2\n",
    "     \n",
    "Often the generated text seems reasonable.\n",
    "\n",
    "I was curious what would get generated if the seed were for example\n",
    "* famous book beginnings\n",
    "* movie quotes\n",
    "* jokes, \n",
    "and other oddball starter strings.\n",
    "\n",
    "Note that I am not transfering the model to any of these  \n",
    "domains and retraining, so it is probably unreasonable to expect much sensible.\n",
    "\n",
    "In any case, what follows is the result of this experiment.\n",
    "\n",
    "Kudos to the Hugging face folks for making it very easy to get   \n",
    "the required software installed and also for giving some great examples."
   ]
  },
  {
   "cell_type": "code",
   "execution_count": 1,
   "id": "edd68acb",
   "metadata": {},
   "outputs": [
    {
     "name": "stderr",
     "output_type": "stream",
     "text": [
      "2022-10-12 15:39:50.355465: I tensorflow/core/platform/cpu_feature_guard.cc:193] This TensorFlow binary is optimized with oneAPI Deep Neural Network Library (oneDNN) to use the following CPU instructions in performance-critical operations:  AVX2 FMA\n",
      "To enable them in other operations, rebuild TensorFlow with the appropriate compiler flags.\n",
      "2022-10-12 15:39:50.499015: E tensorflow/stream_executor/cuda/cuda_blas.cc:2981] Unable to register cuBLAS factory: Attempting to register factory for plugin cuBLAS when one has already been registered\n",
      "2022-10-12 15:39:50.920843: W tensorflow/stream_executor/platform/default/dso_loader.cc:64] Could not load dynamic library 'libnvinfer.so.7'; dlerror: libnvinfer.so.7: cannot open shared object file: No such file or directory; LD_LIBRARY_PATH: /usr/lib/cuda/include:/usr/lib/cuda/lib64:\n",
      "2022-10-12 15:39:50.920896: W tensorflow/stream_executor/platform/default/dso_loader.cc:64] Could not load dynamic library 'libnvinfer_plugin.so.7'; dlerror: libnvinfer_plugin.so.7: cannot open shared object file: No such file or directory; LD_LIBRARY_PATH: /usr/lib/cuda/include:/usr/lib/cuda/lib64:\n",
      "2022-10-12 15:39:50.920902: W tensorflow/compiler/tf2tensorrt/utils/py_utils.cc:38] TF-TRT Warning: Cannot dlopen some TensorRT libraries. If you would like to use Nvidia GPU with TensorRT, please make sure the missing libraries mentioned above are installed properly.\n"
     ]
    }
   ],
   "source": [
    "import re\n",
    "from transformers import pipeline\n",
    "generator = pipeline('text-generation', model = 'gpt2')\n",
    "from transformers import GPT2TokenizerFast\n",
    "tokenizer = GPT2TokenizerFast.from_pretrained(\"gpt2\")\n"
   ]
  },
  {
   "cell_type": "markdown",
   "id": "4bd002d1",
   "metadata": {},
   "source": [
    "## Useful functions"
   ]
  },
  {
   "cell_type": "code",
   "execution_count": 2,
   "id": "d995e43b",
   "metadata": {},
   "outputs": [],
   "source": [
    "def split_start_end(gen_strings, start):\n",
    "    \"\"\" split the string into the original start and generated part \"\"\"\n",
    "    res = {\"start\": start}\n",
    "    res[\"gen\"] = []\n",
    "    for gstring in gen_strings:\n",
    "        temp = gstring[\"generated_text\"]\n",
    "        gen = re.sub(start, '', temp)\n",
    "        res[\"gen\"].append(gen)\n",
    "    return res\n",
    "\n",
    "def pp_results(start_ends):\n",
    "    \"\"\" format the start and ends for nicer printing. \"\"\"\n",
    "    res = \"\\n\\n\"\n",
    "    for se in start_ends:\n",
    "        res += f\"\"\"SEED: {se[\"start\"]}\\n\"\"\"\n",
    "        for i, gen in enumerate(se[\"gen\"]):\n",
    "            gen = re.sub(\"\\\\n\", \"\", gen)\n",
    "            res += f\"\"\"gen {i}: {gen}\\n\"\"\"\n",
    "        res += \"\\n---\"\n",
    "    return res\n",
    "\n",
    "def gen_endings(generator, starts, max_new_tokens=20, num_sequences=4):\n",
    "    start_ends = []\n",
    "    for start in starts:\n",
    "        gen_strings = generator(start, max_new_tokens = max_new_tokens, num_return_sequences=num_sequences,\n",
    "                            pad_token_id=tokenizer.eos_token_id)\n",
    "        start_ends.append(split_start_end(gen_strings, start))\n",
    "    pp = pp_results(start_ends)\n",
    "    return pp\n",
    " "
   ]
  },
  {
   "cell_type": "markdown",
   "id": "8f9e19b3",
   "metadata": {},
   "source": [
    "## Book beginnings"
   ]
  },
  {
   "cell_type": "code",
   "execution_count": 3,
   "id": "8f8a40c0",
   "metadata": {},
   "outputs": [
    {
     "name": "stdout",
     "output_type": "stream",
     "text": [
      "\n",
      "\n",
      "SEED: Call me Ishmael\n",
      "gen 0:  (918)What's the difference between the French'squeo?' (sh\n",
      "gen 1:  Schofield or Jacob Brech. My name was recently referred to in a story by our friend\n",
      "gen 2: ,\" he said.The other part of him wasn't happy with this. He'd been\n",
      "gen 3: , or she shall be destroyed. What shall we do?\" \"I can make a better plan,\"\n",
      "\n",
      "---SEED: It was the best of times, it was the worst of times,\n",
      "gen 0:  but we all knew that was the end,\" he said, adding: \"If we do not win\n",
      "gen 1:  and people that I know are going to lose them.\"They're just the ones that\n",
      "gen 2:  in fact I never liked it more than once in my entire career. I mean I had to be\n",
      "gen 3:  it wasn't what would get me the majority of people into the political arena. And I'm not\n",
      "\n",
      "---SEED: He was an old man who fished alone in a skiff in the Gulf Stream and he had gone eighty-four days\n",
      "gen 0:  and got a full head of hair from this one [Shih-Hui] bird. He\n",
      "gen 1:  without sleeping after having seen a man come down with all the fishes. When the man came down he\n",
      "gen 2:  without food. After some time I stopped but they got me a large pot which the men kept on\n",
      "gen 3:  alone in a fishing boat,\" said N. L. Dyer, who visited the family.\n",
      "\n",
      "---SEED: In the beginning God created the heavens and the earth.\n",
      "gen 0:  And you will see in them three sons: 1) the three chief in heaven, 2) the\n",
      "gen 1:  Then all of creation will rise up in God from heaven, and the earth will be called \"the\n",
      "gen 2: And the heavens and the earth were one. The Spirit rested upon all things.\n",
      "gen 3:  But now his Word enters into the world. And it is He who created the heavens and the earth\n",
      "\n",
      "---\n"
     ]
    }
   ],
   "source": [
    "starts = [\"Call me Ishmael\", \n",
    "                \"It was the best of times, it was the worst of times,\",\n",
    "                \"He was an old man who fished alone in a skiff in the Gulf Stream and he had gone eighty-four days\",\n",
    "                \"In the beginning God created the heavens and the earth.\"\n",
    "                 ]\n",
    "res = gen_endings(generator, starts, max_new_tokens=20, num_sequences=4)\n",
    "print(res)"
   ]
  },
  {
   "cell_type": "markdown",
   "id": "7eb7b597",
   "metadata": {},
   "source": [
    "Of course, you get something different with every run,   \n",
    "but I am somewhat impressed with the generated text for the Bible.\n",
    "Also, at least one of the Hemmingway seed seems ok."
   ]
  },
  {
   "cell_type": "markdown",
   "id": "a7b74df5",
   "metadata": {},
   "source": [
    "## Movie lines"
   ]
  },
  {
   "cell_type": "code",
   "execution_count": 4,
   "id": "d7784bb8",
   "metadata": {},
   "outputs": [
    {
     "name": "stdout",
     "output_type": "stream",
     "text": [
      "\n",
      "\n",
      "SEED: Frankly my dear, I don't give a damn\n",
      "gen 0: \". But his actions have been far from isolated, as they are also a result of his actions,\n",
      "gen 1:  where you live. I think most of what people say can't be true. But that isn't\n",
      "gen 2:  about your feelings, or your feelings and I wouldn't want to say anything.\" His voice sounded low\n",
      "gen 3: .\"\"I think I've seen your whole brain, aren't I?\" Harry murmured.\n",
      "\n",
      "---SEED: May the Force be with you\n",
      "gen 0: ? I can't give in and wait for them to fall before we leave.\"\"I\n",
      "gen 1: . You're the one who will have it, and it is with you that our faith, our\n",
      "gen 2: .The Force may not do so much for the people, but for the living.\n",
      "gen 3: .J.A.D. Salinger wrote: \"The more you learn about the\n",
      "\n",
      "---SEED: No Mr. Bond, I expect you to \n",
      "gen 0: **********. **********,\" he said. \"How exactly do I go about saying that?\"\n",
      "gen 1:  respond to your personal questions, and I will respond as best I can at any time with any\n",
      "gen 2: ight your business with me in order to clear it, sir.\" This being done, and the person\n",
      "gen 3: \" exclaimed the young man. \"It is quite common for such men to take advantage of the common\n",
      "\n",
      "---SEED: Of all the gin joints in all the towns in all the world, \n",
      "gen 0:  that is where we are. On the outskirts of the city of Kukchanska,\n",
      "gen 1:  I really think that the best places to start are in the states or any cities outside Australia which\n",
      "gen 2:  there are a number that are considered by locals to be the least authentic.Cedar and\n",
      "gen 3:  they were a really nice touch, the kind that you can even purchase at a coffee shop or\n",
      "\n",
      "---SEED: What we have here is a failure to \n",
      "gen 0:  reign. The problem with that is that the failure was a simple one-step process —\n",
      "gen 1:  develop that, a failure to develop the skills necessary to become a better student of the American education\n",
      "gen 2:  recognise what it means to be free to work as a worker - that being part of a\n",
      "gen 3:  get this out of the way quickly that we didn't call for a second election.   And\n",
      "\n",
      "---\n"
     ]
    }
   ],
   "source": [
    "starts = [\"Frankly my dear, I don't give a damn\",\n",
    "          \"May the Force be with you\",\n",
    "          \"No Mr. Bond, I expect you to \",\n",
    "          \"Of all the gin joints in all the towns in all the world, \",\n",
    "          \"What we have here is a failure to \"\n",
    "              ]\n",
    "res = gen_endings(generator, starts, max_new_tokens=20, num_sequences=4)\n",
    "print(res)"
   ]
  },
  {
   "cell_type": "markdown",
   "id": "deba1cf3",
   "metadata": {},
   "source": [
    "## Yoda lines\n",
    "Yes, they are movie lines as well"
   ]
  },
  {
   "cell_type": "code",
   "execution_count": 5,
   "id": "665975da",
   "metadata": {},
   "outputs": [
    {
     "name": "stdout",
     "output_type": "stream",
     "text": [
      "\n",
      "\n",
      "SEED: Do or do not, there is no try\n",
      "gen 0:  in heaven or in hell. It will bring on the end.So how could we say\n",
      "gen 1: out on the first day.\"Advertisement - Continue Reading BelowAdvertisement - Continue Reading Below\n",
      "gen 2: . You must take care of each other and all its needs. You must respect each other.\n",
      "gen 3: .4. If an individual has no other intention than to make a good financial performance under\n",
      "\n",
      "---SEED: Named must be your fear before banish it you can\n",
      "gen 0:  create a new game! All new characters must have your last name, but the \"you\" have\n",
      "gen 1:  use. use. Only you\n",
      "gen 2: 't give it any real power. If you've been playing for at least 6 months then you've\n",
      "gen 3:  not only save the game from being too painful, but also give it to an alternative.\n",
      "\n",
      "---SEED: The greatest teacher, failure is\n",
      "gen 0:  never what it seems.\"This is a quote from a recent story from the Guardian.\n",
      "gen 1:  defined by a failure to understand what needs to change.\" They are not talking about a teacher that was\n",
      "gen 2:  not our greatest student. We're trying to teach us, and we're not going to teach them\n",
      "gen 3:  when you fail miserably. No matter how bad, great, or bad, failing is a huge\n",
      "\n",
      "---\n"
     ]
    }
   ],
   "source": [
    "starts = [\"Do or do not, there is no try\",\n",
    "            \"Named must be your fear before banish it you can\",\n",
    "            \"The greatest teacher, failure is\",\n",
    "            ]\n",
    "res = gen_endings(generator, starts, max_new_tokens=20, num_sequences=4)\n",
    "print(res)"
   ]
  },
  {
   "cell_type": "markdown",
   "id": "f6a3815a",
   "metadata": {},
   "source": [
    "## Yogi Berra quotes"
   ]
  },
  {
   "cell_type": "code",
   "execution_count": 6,
   "id": "f2c248ec",
   "metadata": {},
   "outputs": [
    {
     "name": "stdout",
     "output_type": "stream",
     "text": [
      "\n",
      "\n",
      "SEED: When you come to a fork in the road\n",
      "gen 0:  for the first time, make sure the fork has been designed so that a piece of wood is perpendicular\n",
      "gen 1: , you're still being led to the place you're supposed to be. But once you've traveled\n",
      "gen 2: , your eyes begin to swim in, and you realize you shouldn't hesitate to get out of your\n",
      "gen 3: , you will see some large piles of steel falling and you will see smoke coming from those pile.\n",
      "\n",
      "---SEED: You can observe a lot by \n",
      "gen 0:  seeing on a small level what is really happening in the world when people are watching. But a\n",
      "gen 1:  the  time that you find the following table in front of your computer: If\n",
      "gen 2:  using this image on the top right! From the picture above, I have marked the main part\n",
      "gen 3:  an analogy between an  artificial brain. In essence, you're telling a story from\n",
      "\n",
      "---SEED: It ain't over till it's\n",
      "gen 0:  over.\" The next day, he said, \"I gotta be out tonight because what else do you\n",
      "gen 1:  over. Then I will see what I can do to get you out of there.\"\"\n",
      "gen 2:  done.\"Trump said the nation was \"in shock.\"\"I was at a\n",
      "gen 3:  over. The rest is up to you.\"But after that, the night was not without\n",
      "\n",
      "---SEED: No one goes there nowadays, it's\n",
      "gen 0:  only the women, there's no other options. There wasn't a single person to come do it\n",
      "gen 1:  a different world,\" he says. \"I think you want it to be more like France, where\n",
      "gen 2:  a matter of time,\" he added. \"When the first game comes, it's so great to\n",
      "gen 3:  hard to believe that everyone's trying so hard to be the most respected person in the world, that\n",
      "\n",
      "---SEED: If the world was perfect, \n",
      "gen 0:  it wasn't to be, but it was still a great time to be. It was a\n",
      "gen 1:  this was the perfect time for the Jews to celebrate Yom Kippur.  The city\n",
      "gen 2:  we lived under the worst conditions imaginable.  Even with what we were used to, life\n",
      "gen 3:  America would be a very good country.  That's fine, but no one thinks that today\n",
      "\n",
      "---SEED: In theory there is no difference between theory and practice. In practice\n",
      "gen 0: , a philosopher might not see a difference of opinion unless of course the person or thing being opposed to\n",
      "gen 1: , there are no clear differences between the two. Some critics feel that if the law is said to\n",
      "gen 2:  there is not difference between what you feel comfortable with and what you do not. In practice that's\n",
      "gen 3: , the two are a very equal thing.The law of gravity has two fundamental qualities.\n",
      "\n",
      "---\n"
     ]
    }
   ],
   "source": [
    "starts = [\"When you come to a fork in the road\",\n",
    "             \"You can observe a lot by \",\n",
    "             \"It ain't over till it's\",\n",
    "             \"No one goes there nowadays, it's\",\n",
    "             \"If the world was perfect, \",\n",
    "             \"In theory there is no difference between theory and practice. In practice\"]\n",
    "res = gen_endings(generator, starts, max_new_tokens=20, num_sequences=4)\n",
    "print(res)"
   ]
  },
  {
   "cell_type": "markdown",
   "id": "b3190f9f",
   "metadata": {},
   "source": [
    "## Joke beginnings\n"
   ]
  },
  {
   "cell_type": "code",
   "execution_count": 7,
   "id": "952ac2d2",
   "metadata": {},
   "outputs": [
    {
     "name": "stdout",
     "output_type": "stream",
     "text": [
      "\n",
      "\n",
      "SEED: A man walks into a bar\n",
      "gen 0:  at the Belmont Bar and a woman goes outside, to take her camera phone to find a man\n",
      "gen 1:  and walks away with several bottles and an empty can of wine to drink. The man then goes to\n",
      "gen 2:  in South Seattle, where a few men congregate. Picture via Twitter.A man walks\n",
      "gen 3:  in Mumbai's Varanasi market wearing a scarf and a short-sleeved cap, on\n",
      "\n",
      "---SEED: A grasshopper walks into a bar\n",
      "gen 0:  and begins fighting the bouncer.A white panda looks in the direction of the shop\n",
      "gen 1: room and asks what's going on. The bartender tells her he's got steak in his drink,\n",
      "gen 2:  and asks the bartender if he wants one for himself. The bartender replies: \"How is your hair\n",
      "gen 3: bershop. We do our homework and talk to each other, but when we get to the house\n",
      "\n",
      "---\n"
     ]
    }
   ],
   "source": [
    "starts = [\"A man walks into a bar\",\n",
    "           \"A grasshopper walks into a bar\",\n",
    "              ]\n",
    "res = gen_endings(generator, starts, max_new_tokens=20, num_sequences=4)\n",
    "print(res)"
   ]
  },
  {
   "cell_type": "markdown",
   "id": "3f2fec28",
   "metadata": {},
   "source": [
    "## Politics and History"
   ]
  },
  {
   "cell_type": "code",
   "execution_count": 8,
   "id": "9cbb4862",
   "metadata": {},
   "outputs": [
    {
     "name": "stdout",
     "output_type": "stream",
     "text": [
      "\n",
      "\n",
      "SEED: Four score and seven years ago\n",
      "gen 0: , I didn't have any issues finding a lot of good work with \"The Legend of Zelda:\n",
      "gen 1: , a former state senator with a lengthy criminal record could not run again. The Democratic front-runner\n",
      "gen 2: , when he took on the title of first man of the season, this year seems like a perfect\n",
      "gen 3: , that was my biggest challenge. \"I'm working on this, and I'm still having the\n",
      "\n",
      "---SEED: When in the Course of human events, it becomes necessary for one people toLet us therefore brace ourselves to our duty and so bear ourselves that if the British Commonwealth and Empire lasts for a thousand years men will still say,\n",
      "gen 0:  'You've done what was just said. I feel the effects of what you've said.' And\n",
      "gen 1:  'Don't worry, because the people won't take advantage of it.' But if it is ten\n",
      "gen 2:  I think the land and the sea will go on forever; when their will be destroyed and the other\n",
      "gen 3:  \"We have no doubt where there is no land; and we hope that that where no land,\n",
      "\n",
      "---SEED:  I would say to the House, as I said to those who have joined this government: 'I have nothing to offer but \n",
      "gen 0: _____, but I will do whatever is necessary to make this country proud again.' So this is what\n",
      "gen 1: vernacular, as I know English. But with you or with the people who follow me, those\n",
      "gen 2: ____________. I have no fear in anyone. I am as proud as ever to be a member\n",
      "gen 3: ___________' They will know where the problem lies.After the election I wrote to the\n",
      "\n",
      "---\n"
     ]
    }
   ],
   "source": [
    "starts = [\"Four score and seven years ago\",\n",
    "          \"When in the Course of human events, it becomes necessary for one people to\"\n",
    "          \"Let us therefore brace ourselves to our duty and so bear ourselves that if the British Commonwealth and Empire lasts for a thousand years men will still say,\",\" \"\n",
    "          \"I would say to the House, as I said to those who have joined this government: 'I have nothing to offer but \"\n",
    "         ]\n",
    "res = gen_endings(generator, starts, max_new_tokens=20, num_sequences=4)\n",
    "print(res)"
   ]
  },
  {
   "cell_type": "markdown",
   "id": "feae458f",
   "metadata": {},
   "source": [
    "## Summary\n",
    "I did not know what to expect, so I could not really be disappointed.\n",
    "\n",
    "All in all, I would say the results are amusing, especially  \n",
    "for the jokes, Yoda and  Yogi Berra ... and  maybe even the Politics and History."
   ]
  }
 ],
 "metadata": {
  "kernelspec": {
   "display_name": "hf",
   "language": "python",
   "name": "hf"
  },
  "language_info": {
   "codemirror_mode": {
    "name": "ipython",
    "version": 3
   },
   "file_extension": ".py",
   "mimetype": "text/x-python",
   "name": "python",
   "nbconvert_exporter": "python",
   "pygments_lexer": "ipython3",
   "version": "3.10.6"
  }
 },
 "nbformat": 4,
 "nbformat_minor": 5
}
